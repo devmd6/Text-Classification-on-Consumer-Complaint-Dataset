{
 "cells": [
  {
   "cell_type": "code",
   "execution_count": 1,
   "id": "ef335ecb-8b05-4327-8fc5-ff6fdcfd4b95",
   "metadata": {
    "tags": []
   },
   "outputs": [
    {
     "name": "stderr",
     "output_type": "stream",
     "text": [
      "C:\\Users\\mdeva\\AppData\\Local\\Temp\\ipykernel_18512\\1557178747.py:2: DtypeWarning: Columns (16) have mixed types. Specify dtype option on import or set low_memory=False.\n",
      "  df=pd.read_csv(r\"C:\\Users\\mdeva\\Desktop\\Data Analysis\\complaints.csv\")\n"
     ]
    }
   ],
   "source": [
    "import pandas as pd \n",
    "df=pd.read_csv(r\"C:\\Users\\mdeva\\Desktop\\Data Analysis\\complaints.csv\")"
   ]
  },
  {
   "cell_type": "code",
   "execution_count": 5,
   "id": "261b3e19-7fb6-4b07-831f-5a7efc5ee716",
   "metadata": {
    "tags": []
   },
   "outputs": [
    {
     "name": "stdout",
     "output_type": "stream",
     "text": [
      "['Credit reporting or other personal consumer reports'\n",
      " 'Money transfer, virtual currency, or money service' 'Mortgage'\n",
      " 'Debt collection' 'Checking or savings account' 'Credit card'\n",
      " 'Vehicle loan or lease' 'Student loan' 'Credit card or prepaid card'\n",
      " 'Credit reporting, credit repair services, or other personal consumer reports'\n",
      " 'Prepaid card' 'Payday loan, title loan, personal loan, or advance loan'\n",
      " 'Payday loan, title loan, or personal loan' 'Debt or credit management'\n",
      " 'Other financial service' 'Credit reporting' 'Bank account or service'\n",
      " 'Consumer Loan' 'Payday loan' 'Money transfers' 'Virtual currency']\n"
     ]
    }
   ],
   "source": [
    "unique_products = df['Product'].unique()\n",
    "print(unique_products)"
   ]
  },
  {
   "cell_type": "code",
   "execution_count": 7,
   "id": "95c7e13b-7f68-4655-b6fc-a9b81e329bdf",
   "metadata": {
    "tags": []
   },
   "outputs": [],
   "source": [
    "df['Category'] = df['Product'].apply(lambda x: 'Credit reporting, repair, or other' if 'credit' in x.lower() else\n",
    "                                        'Debt collection' if 'debt' in x.lower() else\n",
    "                                        'Consumer Loan' if 'loan' in x.lower() else\n",
    "                                        'Mortgage' if 'mortgage' in x.lower() else 'Other')\n",
    "\n",
    "df.dropna(subset=['Category', 'Consumer complaint narrative'], inplace=True)\n",
    "\n",
    "df['Consumer complaint narrative'].fillna('', inplace=True)"
   ]
  },
  {
   "cell_type": "code",
   "execution_count": null,
   "id": "5e4cbc17-094d-42b2-87c3-46e6e9aea899",
   "metadata": {},
   "outputs": [],
   "source": [
    "from sklearn.model_selection import train_test_split\n",
    "from sklearn.feature_extraction.text import TfidfVectorizer\n",
    "from sklearn.metrics import classification_report, accuracy_score, confusion_matrix\n",
    "\n",
    "X_train, X_test, y_train, y_test = train_test_split(\n",
    "    df[['Consumer complaint narrative']],\n",
    "    df['Category'],\n",
    "    test_size=0.2,\n",
    "    random_state=42\n",
    ")\n",
    "\n",
    "vectorizer = TfidfVectorizer(max_features=5000, stop_words='english')\n",
    "X_train_tfidf = vectorizer.fit_transform(X_train['Consumer complaint narrative'])\n",
    "X_test_tfidf = vectorizer.transform(X_test['Consumer complaint narrative'])\n",
    "\n",
    "\n",
    "clf = MultinomialNB()\n",
    "clf.fit(X_train_tfidf, y_train)\n",
    "\n",
    "y_pred = clf.predict(X_test_tfidf)\n",
    "\n",
    "print(\"Classification Report:\")\n",
    "print(classification_report(y_test, y_pred))\n",
    "print(\"\\nAccuracy:\", accuracy_score(y_test, y_pred))"
   ]
  },
  {
   "cell_type": "code",
   "execution_count": null,
   "id": "14e26ad2-8282-4c6b-9517-67e226435fa7",
   "metadata": {},
   "outputs": [],
   "source": [
    "from sklearn.ensemble import RandomForestClassifier\n",
    "from sklearn.model_selection import train_test_split\n",
    "from sklearn.feature_extraction.text import TfidfVectorizer\n",
    "from sklearn.metrics import classification_report, accuracy_score, confusion_matrix\n",
    "\n",
    "X_train, X_test, y_train, y_test = train_test_split(\n",
    "    df[['Consumer complaint narrative']],\n",
    "    df['Category'],\n",
    "    test_size=0.2,\n",
    "    random_state=42\n",
    ")\n",
    "\n",
    "vectorizer = TfidfVectorizer(max_features=5000, stop_words='english')\n",
    "X_train_tfidf = vectorizer.fit_transform(X_train['Consumer complaint narrative'])\n",
    "X_test_tfidf = vectorizer.transform(X_test['Consumer complaint narrative'])\n",
    "\n",
    "rf_classifier = RandomForestClassifier(n_estimators=100, random_state=42)\n",
    "rf_classifier.fit(X_train_tfidf, y_train)\n",
    "\n",
    "y_pred = rf_classifier.predict(X_test_tfidf)\n",
    "print(\"Classification Report:\")\n",
    "print(classification_report(y_test, y_pred))\n",
    "print(\"\\nAccuracy:\", accuracy_score(y_test, y_pred))"
   ]
  },
  {
   "cell_type": "code",
   "execution_count": null,
   "id": "605486d3-eaa2-477b-8295-67bd3c8dcbab",
   "metadata": {
    "tags": []
   },
   "outputs": [],
   "source": [
    "new_complaint = [\"I have an issue with my mortgage payment.\"]\n",
    "new_complaint_tfidf = vectorizer.transform(new_complaint)\n",
    "predicted_category = clf.predict(new_complaint_tfidf)\n",
    "\n",
    "print(\"\\nPredicted Category for New Complaint:\", predicted_category[0])"
   ]
  },
  {
   "cell_type": "code",
   "execution_count": null,
   "id": "deb24f57-2d15-4253-869b-4d59057aeb99",
   "metadata": {
    "tags": []
   },
   "outputs": [],
   "source": [
    "new_complaint = [\"I have an issue with my mortgage payment.\"]\n",
    "new_complaint_tfidf = vectorizer.transform(new_complaint)\n",
    "predicted_category = rf_classifier.predict(new_complaint_tfidf)\n",
    "\n",
    "print(\"\\nPredicted Category for New Complaint:\", predicted_category[0])"
   ]
  },
  {
   "cell_type": "code",
   "execution_count": null,
   "id": "59b09c27-f6e8-4e1a-8752-71d082882a6c",
   "metadata": {},
   "outputs": [],
   "source": []
  }
 ],
 "metadata": {
  "kernelspec": {
   "display_name": "Python 3 (ipykernel)",
   "language": "python",
   "name": "python3"
  },
  "language_info": {
   "codemirror_mode": {
    "name": "ipython",
    "version": 3
   },
   "file_extension": ".py",
   "mimetype": "text/x-python",
   "name": "python",
   "nbconvert_exporter": "python",
   "pygments_lexer": "ipython3",
   "version": "3.11.5"
  }
 },
 "nbformat": 4,
 "nbformat_minor": 5
}
